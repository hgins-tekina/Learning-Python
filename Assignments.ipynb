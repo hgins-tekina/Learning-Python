{
 "cells": [
  {
   "cell_type": "markdown",
   "metadata": {},
   "source": [
    "# Assignment Day-3"
   ]
  },
  {
   "cell_type": "markdown",
   "metadata": {},
   "source": [
    "1.)Write a program to print all the natural numbers from 1 to n (user input). Then print the same in reverse order."
   ]
  },
  {
   "cell_type": "code",
   "execution_count": 20,
   "metadata": {},
   "outputs": [
    {
     "name": "stdout",
     "output_type": "stream",
     "text": [
      "Please enter a number\n",
      "10\n",
      "Numbers are:\n",
      "1\n",
      "2\n",
      "3\n",
      "4\n",
      "5\n",
      "6\n",
      "7\n",
      "8\n",
      "9\n",
      "10\n",
      "Numbers in Reverse order are:\n",
      "10\n",
      "9\n",
      "8\n",
      "7\n",
      "6\n",
      "5\n",
      "4\n",
      "3\n",
      "2\n",
      "1\n"
     ]
    }
   ],
   "source": [
    "print(\"Please enter a number\")\n",
    "n=int(input())\n",
    "print(\"Numbers are:\")\n",
    "for number in range(1,n+1):\n",
    "    print(number)\n",
    "print(\"Numbers in Reverse order are:\")\n",
    "for number in range(n,0,-1):\n",
    "    print(number)"
   ]
  },
  {
   "cell_type": "markdown",
   "metadata": {},
   "source": [
    "2.)Print all odd numbers and even numbers between 1 to 100."
   ]
  },
  {
   "cell_type": "code",
   "execution_count": 21,
   "metadata": {},
   "outputs": [
    {
     "name": "stdout",
     "output_type": "stream",
     "text": [
      "Odd Numbers in the range 1-100 are:-\n",
      "1\n",
      "3\n",
      "5\n",
      "7\n",
      "9\n",
      "11\n",
      "13\n",
      "15\n",
      "17\n",
      "19\n",
      "21\n",
      "23\n",
      "25\n",
      "27\n",
      "29\n",
      "31\n",
      "33\n",
      "35\n",
      "37\n",
      "39\n",
      "41\n",
      "43\n",
      "45\n",
      "47\n",
      "49\n",
      "51\n",
      "53\n",
      "55\n",
      "57\n",
      "59\n",
      "61\n",
      "63\n",
      "65\n",
      "67\n",
      "69\n",
      "71\n",
      "73\n",
      "75\n",
      "77\n",
      "79\n",
      "81\n",
      "83\n",
      "85\n",
      "87\n",
      "89\n",
      "91\n",
      "93\n",
      "95\n",
      "97\n",
      "99\n",
      "Even Numbers in the range 1-100 are:-\n",
      "2\n",
      "4\n",
      "6\n",
      "8\n",
      "10\n",
      "12\n",
      "14\n",
      "16\n",
      "18\n",
      "20\n",
      "22\n",
      "24\n",
      "26\n",
      "28\n",
      "30\n",
      "32\n",
      "34\n",
      "36\n",
      "38\n",
      "40\n",
      "42\n",
      "44\n",
      "46\n",
      "48\n",
      "50\n",
      "52\n",
      "54\n",
      "56\n",
      "58\n",
      "60\n",
      "62\n",
      "64\n",
      "66\n",
      "68\n",
      "70\n",
      "72\n",
      "74\n",
      "76\n",
      "78\n",
      "80\n",
      "82\n",
      "84\n",
      "86\n",
      "88\n",
      "90\n",
      "92\n",
      "94\n",
      "96\n",
      "98\n",
      "100\n"
     ]
    }
   ],
   "source": [
    "def even_num(n):\n",
    "        if(n%2==0):\n",
    "            return n\n",
    "def odd_num(n):\n",
    "        if(n%2!=0):\n",
    "            return n\n",
    "print(\"Odd Numbers in the range 1-100 are:-\")\n",
    "for i in range(1,101):\n",
    "    if(odd_num(i)!=None):\n",
    "        print(odd_num(i))\n",
    "print(\"Even Numbers in the range 1-100 are:-\")\n",
    "for i in range(1,101):\n",
    "    if(even_num(i)!=None):\n",
    "        print(even_num(i))\n",
    "        \n",
    "\n",
    " "
   ]
  },
  {
   "cell_type": "markdown",
   "metadata": {},
   "source": [
    "3.) Write a program to print fibonacci series. (0,1,1,2,3,5,8,13,21,34..)\n"
   ]
  },
  {
   "cell_type": "code",
   "execution_count": 36,
   "metadata": {},
   "outputs": [
    {
     "name": "stdout",
     "output_type": "stream",
     "text": [
      "Enter a number\n",
      "9\n",
      "0\n",
      "1\n",
      "1\n",
      "2\n",
      "3\n",
      "5\n",
      "8\n",
      "13\n",
      "21\n"
     ]
    }
   ],
   "source": [
    "print(\"Enter a number\")\n",
    "n=int(input())\n",
    "a=0\n",
    "b=1\n",
    "k=2\n",
    "if n==0:\n",
    "    print(None)\n",
    "elif n==1:\n",
    "    print(a)\n",
    "else:\n",
    "    print(a)\n",
    "    print(b)\n",
    "    while(k<n):\n",
    "        c=a+b\n",
    "        print(c)\n",
    "        k+=1\n",
    "        a=b\n",
    "        b=c"
   ]
  },
  {
   "cell_type": "markdown",
   "metadata": {},
   "source": [
    "4.) Write a Program to check if a number is prime or not"
   ]
  },
  {
   "cell_type": "code",
   "execution_count": 37,
   "metadata": {},
   "outputs": [
    {
     "name": "stdout",
     "output_type": "stream",
     "text": [
      "Please enter a number\n",
      "7\n",
      "Number is Prime\n"
     ]
    }
   ],
   "source": [
    "print(\"Please enter a number\")\n",
    "n=int(input())\n",
    "c=0\n",
    "if n==1:\n",
    "    print(\"1 is neither Prime nor Composite\")\n",
    "elif n==0:\n",
    "    print(\"Number is Not Prime\")\n",
    "else:\n",
    "    for i in range(1,n):\n",
    "       if n%i==0:\n",
    "         c+=1\n",
    "    if c>1:\n",
    "        print(\"Number is NOT PRIME\")\n",
    "    else:\n",
    "        print(\"Number is Prime\")"
   ]
  },
  {
   "cell_type": "markdown",
   "metadata": {},
   "source": [
    "5.) Find the length of a string using loops\n",
    "Eg: ‘hello’          length = 5\n",
    "       ‘Dog’           length = 3\n",
    "       ‘Hello world’          length= 11\n"
   ]
  },
  {
   "cell_type": "code",
   "execution_count": 38,
   "metadata": {},
   "outputs": [
    {
     "name": "stdout",
     "output_type": "stream",
     "text": [
      "My name is Barry Alan and I am the fastest man alive\n",
      "Length= 52\n"
     ]
    }
   ],
   "source": [
    "st=input()\n",
    "print(\"Length=\",len(st))"
   ]
  },
  {
   "cell_type": "markdown",
   "metadata": {},
   "source": [
    "6.) Write a program that accepts two strings and outputs the concatenation of them.\n",
    "      Example: ‘hello’ , ‘world’ ==> ‘helloworld’.\n"
   ]
  },
  {
   "cell_type": "code",
   "execution_count": 39,
   "metadata": {},
   "outputs": [
    {
     "name": "stdout",
     "output_type": "stream",
     "text": [
      "hello\n",
      "world\n",
      "helloworld\n"
     ]
    }
   ],
   "source": [
    "a=input()\n",
    "b=input()\n",
    "print(a+b)"
   ]
  },
  {
   "cell_type": "code",
   "execution_count": null,
   "metadata": {},
   "outputs": [],
   "source": []
  }
 ],
 "metadata": {
  "kernelspec": {
   "display_name": "Python 3",
   "language": "python",
   "name": "python3"
  },
  "language_info": {
   "codemirror_mode": {
    "name": "ipython",
    "version": 3
   },
   "file_extension": ".py",
   "mimetype": "text/x-python",
   "name": "python",
   "nbconvert_exporter": "python",
   "pygments_lexer": "ipython3",
   "version": "3.8.2"
  }
 },
 "nbformat": 4,
 "nbformat_minor": 4
}
